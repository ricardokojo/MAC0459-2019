{
 "cells": [
  {
   "cell_type": "markdown",
   "metadata": {},
   "source": [
    "# Lista de Exercícios + Prova - MAC0459 Ciência e Engenharia de Dados\n",
    "\n",
    "Ricardo Hideki Hangai Kojo - 10295429"
   ]
  },
  {
   "cell_type": "markdown",
   "metadata": {},
   "source": [
    "## Lista de Exercícios"
   ]
  },
  {
   "cell_type": "markdown",
   "metadata": {},
   "source": [
    "### Q1"
   ]
  },
  {
   "cell_type": "markdown",
   "metadata": {},
   "source": [
    "### Q2"
   ]
  },
  {
   "cell_type": "markdown",
   "metadata": {},
   "source": [
    "### Q3"
   ]
  },
  {
   "cell_type": "markdown",
   "metadata": {},
   "source": [
    "### Q4"
   ]
  },
  {
   "cell_type": "markdown",
   "metadata": {},
   "source": [
    "### Q5"
   ]
  },
  {
   "cell_type": "markdown",
   "metadata": {},
   "source": [
    "### Q6"
   ]
  },
  {
   "cell_type": "markdown",
   "metadata": {},
   "source": [
    "## Prova"
   ]
  },
  {
   "cell_type": "markdown",
   "metadata": {},
   "source": [
    "### Q1"
   ]
  },
  {
   "cell_type": "markdown",
   "metadata": {},
   "source": [
    "### Q2"
   ]
  },
  {
   "cell_type": "markdown",
   "metadata": {},
   "source": [
    "### Q3"
   ]
  },
  {
   "cell_type": "markdown",
   "metadata": {},
   "source": [
    "### Q4"
   ]
  },
  {
   "cell_type": "markdown",
   "metadata": {},
   "source": [
    "### Q5"
   ]
  },
  {
   "cell_type": "markdown",
   "metadata": {},
   "source": [
    "### Q6"
   ]
  },
  {
   "cell_type": "markdown",
   "metadata": {},
   "source": [
    "### Q7"
   ]
  },
  {
   "cell_type": "markdown",
   "metadata": {},
   "source": [
    "### Q10 \n",
    "\n",
    "1. Não, não assisti todas as aulas presenciais. A maioria das faltas ocorreu devido ao meu estágio e outros compromissos. Quando eu tinha algum compromisso pessoal que tomava tempo do estágio - como uma consulta médica, por exemplo - eu precisava compensar esse tempo em outro dia. Por isso, tive que sacrificar a presença em algumas aulas (dessa e de outras disciplinas);\n",
    "2. Sinto que consegui entender a ideia geral e os conceitos básicos passados. No entanto, não consegui me aprofundar muito nos detalhes, muitas vezes por falta de conhecimento;\n",
    "3. Sim, participei da discussão de perguntas dos _datasets_ e apresentação da EDA do meu grupo. Considero que minha participação foi boa - sinto que consegui trazer _insights_ interessantes;\n",
    "4. Procurei por alguns datasets de assuntos que me interessavam - como futebol, por exemplo - para tentar fazer uma EDA sobre um assunto com o qual eu tinha mais intimidade. Não cheguei a me aprofundar nas técnicas de EDA passadas em sala, nem em bibliotecas como o Seaborn, mas foi uma tarefa divertida de se realizar;\n",
    "5. Devido ao estágio (de 30h semanais) eu possuía pouco tempo para estudar durante a semana: aproximadamente 1 hora de estudos por dia, sem contar os fins de semana. Além desta disciplina, eu peguei outras 4 neste semestre, sendo que o tempo que dediquei para cada uma delas foi proporcionalmente igual - aproximadamente 2 horas semanais;\n",
    "6. Acho que o conteúdo da aula em si era interessante, mas havia motivos extra-aula que desmotivam a presença, como: a sala de aula (disposição das cadeiras é ruim, espaço ruim, acústica ruim, sem ar condicionado e com ventiladores muito barulhentos), horário (qualquer aula às 8h da manhã é desmotivadora);\n",
    "7. Sim, acho que satisfez. Eu não tinha nenhuma espectativa específica para esta disciplina e achei interessante tanto os trabalhos, quanto discussões/apresentações e ver sobre bibliotecas como Pandas e até sobre Spark;\n",
    "8. Não há nenhum tópico específico que eu queria ter visto. No entanto, sobre os tópicos apresentados em aula,acho que os tópicos sobre clusterização e tipos de plots foram passados de forma muito rápida. Foi difícil entender tanto o conceito de clusterização quanto vantagens/desvantagens de cada tipo de plot.\n",
    "9. Sim, acho que a quantidade e dificuldade das tarefas foi adequada. Me sinto seguro de continuar estudando sozinho, apesar de que eu teria que revisar/aprofundar alguns conceitos estatísticos/matemáticos. Não tenho nenhuma sugestão para melhorar as tarefas. Fazendo uma análise dos métodos de avaliação passados durante o semestre:\n",
    "    - **Questões em sala**: achei as questões justas. Eram questões simples, sobre o assunto da aula (normalmente) e não havia necessidade de serem muito formais como método de avaliação;\n",
    "    - **Discussão em grupos sobre os datasets**: achei uma tarefa interessante por ser diferente e por ser durante a aula;\n",
    "    - **Apresentação da EDA feita em grupo**: interessante para ver não só as análises dos outros grupos, mas entender um pouco como pessoas que estão mais acostumadas com esses tipos de análise trabalham em contraste a pessoas que nunca mexeram com isso;\n",
    "    - **Trabalhos individuais (EDA, lista de exercícios, prova)**: questões são justas. As avaliações não possuem uma formalidade tanto no formato de respostas quanto no tempo de entrega, o que às vezes pode causar um pouco de confusão, mas entendo que o objetivo primário é o aprendizado e não a avaliação em si.\n",
    "10. Eu não possuía conhecimento anterior sobre a área, o que dificultou o entendimento de alguns dos tópicos trazidos. Não consegui dedicar tanto tempo aos estudos e nem estar presente em todas as aulas devido ao estágio. Apesar disso, acho que consegui entender os conceitos básicos, participar as atividades em grupo, fiz a apresentação da EDA e dediquei um pouco do tempo extraclasse à procurar um pouco mais sobre os assuntos vistos em sala. Sendo assim, atribuo uma **nota 8 nesta auto-avaliação**."
   ]
  }
 ],
 "metadata": {
  "kernelspec": {
   "display_name": "Python 2",
   "language": "python",
   "name": "python2"
  },
  "language_info": {
   "codemirror_mode": {
    "name": "ipython",
    "version": 2
   },
   "file_extension": ".py",
   "mimetype": "text/x-python",
   "name": "python",
   "nbconvert_exporter": "python",
   "pygments_lexer": "ipython2",
   "version": "2.7.15+"
  }
 },
 "nbformat": 4,
 "nbformat_minor": 2
}
