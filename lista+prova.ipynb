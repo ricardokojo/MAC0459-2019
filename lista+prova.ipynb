{
 "cells": [
  {
   "cell_type": "markdown",
   "metadata": {},
   "source": [
    "# Lista de Exercícios + Prova - MAC0459 Ciência e Engenharia de Dados\n",
    "\n",
    "Ricardo Hideki Hangai Kojo - 10295429"
   ]
  },
  {
   "cell_type": "markdown",
   "metadata": {},
   "source": [
    "## Lista de Exercícios"
   ]
  },
  {
   "cell_type": "markdown",
   "metadata": {},
   "source": [
    "### Q1"
   ]
  },
  {
   "cell_type": "markdown",
   "metadata": {},
   "source": [
    "### Q2"
   ]
  },
  {
   "cell_type": "markdown",
   "metadata": {},
   "source": [
    "### Q3"
   ]
  },
  {
   "cell_type": "markdown",
   "metadata": {},
   "source": [
    "### Q4"
   ]
  },
  {
   "cell_type": "markdown",
   "metadata": {},
   "source": [
    "### Q5"
   ]
  },
  {
   "cell_type": "markdown",
   "metadata": {},
   "source": [
    "### Q6"
   ]
  },
  {
   "cell_type": "markdown",
   "metadata": {},
   "source": [
    "## Prova"
   ]
  },
  {
   "cell_type": "markdown",
   "metadata": {},
   "source": [
    "### Q1\n",
    "\n",
    "O _dataset_ é **Dados Estatísticos do Transporte Aéreo** é um conjunto de dados disponibilizado e mantido pela ANAC (Agência Nacional de Aviação Civil) que contém dados sobre o transporte aéreo no Brasil, incluindo voos domésticos e internacionais, regulares ou não, e com dados sobre passageiros, distância, bagagem, combustível, entre outros. Os dados são atualizados mensalmente e possuem registros de voos a partir do ano 2000.\n",
    "\n",
    "Seguem as questões a serem respondidas pela EDA:\n",
    "\n",
    "1. **Qual o ano com maior quantidade de voos?**\n",
    "2. **Qual o mês do ano com maior quantidade de voos?**\n",
    "3. **Qual a relação entre a distância e os outros campos do dataset?**"
   ]
  },
  {
   "cell_type": "code",
   "execution_count": 2,
   "metadata": {},
   "outputs": [],
   "source": [
    "import matplotlib.pyplot as plt\n",
    "import pandas as pd\n",
    "import seaborn"
   ]
  },
  {
   "cell_type": "code",
   "execution_count": 6,
   "metadata": {},
   "outputs": [],
   "source": [
    "flights2 = pd.read_csv(\"/home/kojo/Documentos/MAC0459-2019/dados-estatisticos.csv\", sep=\";\", encoding='latin-1')"
   ]
  },
  {
   "cell_type": "code",
   "execution_count": 7,
   "metadata": {},
   "outputs": [
    {
     "name": "stdout",
     "output_type": "stream",
     "text": [
      "<class 'pandas.core.frame.DataFrame'>\n",
      "RangeIndex: 887384 entries, 0 to 887383\n",
      "Data columns (total 38 columns):\n",
      "EMPRESA (SIGLA)                                       887384 non-null object\n",
      "EMPRESA (NOME)                                        887384 non-null object\n",
      "EMPRESA (NACIONALIDADE)                               887384 non-null object\n",
      "ANO                                                   887384 non-null int64\n",
      "MÊS                                                   887384 non-null int64\n",
      "AEROPORTO DE ORIGEM (SIGLA)                           887384 non-null object\n",
      "AEROPORTO DE ORIGEM (NOME)                            887370 non-null object\n",
      "AEROPORTO DE ORIGEM (UF)                              772870 non-null object\n",
      "AEROPORTO DE ORIGEM (REGIÃO)                          772876 non-null object\n",
      "AEROPORTO DE ORIGEM (PAÍS)                            887370 non-null object\n",
      "AEROPORTO DE ORIGEM (CONTINENTE)                      887370 non-null object\n",
      "AEROPORTO DE DESTINO (SIGLA)                          887382 non-null object\n",
      "AEROPORTO DE DESTINO (NOME)                           886669 non-null object\n",
      "AEROPORTO DE DESTINO (UF)                             766432 non-null object\n",
      "AEROPORTO DE DESTINO (REGIÃO)                         766440 non-null object\n",
      "AEROPORTO DE DESTINO (PAÍS)                           886669 non-null object\n",
      "AEROPORTO DE DESTINO (CONTINENTE)                     886669 non-null object\n",
      "NATUREZA                                              887384 non-null object\n",
      "GRUPO DE VOO                                          887384 non-null object\n",
      "PASSAGEIROS PAGOS                                     845826 non-null object\n",
      "PASSAGEIROS GRÁTIS                                    845826 non-null object\n",
      "CARGA PAGA (KG)                                       845826 non-null object\n",
      "CARGA GRÁTIS (KG)                                     845826 non-null object\n",
      "CORREIO (KG)                                          845826 non-null object\n",
      "ASK                                                   670072 non-null object\n",
      "RPK                                                   670072 non-null object\n",
      "ATK                                                   670072 non-null object\n",
      "RTK                                                   670072 non-null object\n",
      "COMBUSTÍVEL (LITROS) - APENAS EMPRESAS BRASILEIRAS    546976 non-null object\n",
      "DISTÂNCIA VOADA (KM)                                  670074 non-null object\n",
      "DECOLAGENS                                            670074 non-null object\n",
      "CARGA PAGA KM                                         670072 non-null object\n",
      "CARGA GRATIS KM                                       670072 non-null object\n",
      "CORREIO KM                                            670072 non-null object\n",
      "ASSENTOS                                              670074 non-null object\n",
      "PAYLOAD                                               670074 non-null object\n",
      "HORAS VOADAS                                          546504 non-null object\n",
      "BAGAGEM (KG)                                          722728 non-null object\n",
      "dtypes: int64(2), object(36)\n",
      "memory usage: 257.3+ MB\n"
     ]
    }
   ],
   "source": [
    "flights2.info()"
   ]
  },
  {
   "cell_type": "code",
   "execution_count": 8,
   "metadata": {},
   "outputs": [
    {
     "data": {
      "text/html": [
       "<div>\n",
       "<style scoped>\n",
       "    .dataframe tbody tr th:only-of-type {\n",
       "        vertical-align: middle;\n",
       "    }\n",
       "\n",
       "    .dataframe tbody tr th {\n",
       "        vertical-align: top;\n",
       "    }\n",
       "\n",
       "    .dataframe thead th {\n",
       "        text-align: right;\n",
       "    }\n",
       "</style>\n",
       "<table border=\"1\" class=\"dataframe\">\n",
       "  <thead>\n",
       "    <tr style=\"text-align: right;\">\n",
       "      <th></th>\n",
       "      <th>EMPRESA (SIGLA)</th>\n",
       "      <th>EMPRESA (NOME)</th>\n",
       "      <th>EMPRESA (NACIONALIDADE)</th>\n",
       "      <th>ANO</th>\n",
       "      <th>MÊS</th>\n",
       "      <th>AEROPORTO DE ORIGEM (SIGLA)</th>\n",
       "      <th>AEROPORTO DE ORIGEM (NOME)</th>\n",
       "      <th>AEROPORTO DE ORIGEM (UF)</th>\n",
       "      <th>AEROPORTO DE ORIGEM (REGIÃO)</th>\n",
       "      <th>AEROPORTO DE ORIGEM (PAÍS)</th>\n",
       "      <th>...</th>\n",
       "      <th>COMBUSTÍVEL (LITROS) - APENAS EMPRESAS BRASILEIRAS</th>\n",
       "      <th>DISTÂNCIA VOADA (KM)</th>\n",
       "      <th>DECOLAGENS</th>\n",
       "      <th>CARGA PAGA KM</th>\n",
       "      <th>CARGA GRATIS KM</th>\n",
       "      <th>CORREIO KM</th>\n",
       "      <th>ASSENTOS</th>\n",
       "      <th>PAYLOAD</th>\n",
       "      <th>HORAS VOADAS</th>\n",
       "      <th>BAGAGEM (KG)</th>\n",
       "    </tr>\n",
       "  </thead>\n",
       "  <tbody>\n",
       "    <tr>\n",
       "      <th>0</th>\n",
       "      <td>AAL</td>\n",
       "      <td>AMERICAN AIRLINES</td>\n",
       "      <td>ESTRANGEIRA</td>\n",
       "      <td>2000</td>\n",
       "      <td>1</td>\n",
       "      <td>SBGR</td>\n",
       "      <td>SÃO PAULO - GUARULHOS</td>\n",
       "      <td>SP</td>\n",
       "      <td>SUDESTE</td>\n",
       "      <td>BRASIL</td>\n",
       "      <td>...</td>\n",
       "      <td>NaN</td>\n",
       "      <td>254975,00</td>\n",
       "      <td>31,00</td>\n",
       "      <td>1407387975,00</td>\n",
       "      <td>0,00</td>\n",
       "      <td>148050,00</td>\n",
       "      <td>6541,00</td>\n",
       "      <td>1085000,00</td>\n",
       "      <td>NaN</td>\n",
       "      <td>NaN</td>\n",
       "    </tr>\n",
       "    <tr>\n",
       "      <th>1</th>\n",
       "      <td>AAL</td>\n",
       "      <td>AMERICAN AIRLINES</td>\n",
       "      <td>ESTRANGEIRA</td>\n",
       "      <td>2000</td>\n",
       "      <td>1</td>\n",
       "      <td>SBGR</td>\n",
       "      <td>SÃO PAULO - GUARULHOS</td>\n",
       "      <td>SP</td>\n",
       "      <td>SUDESTE</td>\n",
       "      <td>BRASIL</td>\n",
       "      <td>...</td>\n",
       "      <td>NaN</td>\n",
       "      <td>221444,00</td>\n",
       "      <td>29,00</td>\n",
       "      <td>2327521524,00</td>\n",
       "      <td>0,00</td>\n",
       "      <td>84385436,00</td>\n",
       "      <td>6119,00</td>\n",
       "      <td>1015000,00</td>\n",
       "      <td>NaN</td>\n",
       "      <td>NaN</td>\n",
       "    </tr>\n",
       "    <tr>\n",
       "      <th>2</th>\n",
       "      <td>AAL</td>\n",
       "      <td>AMERICAN AIRLINES</td>\n",
       "      <td>ESTRANGEIRA</td>\n",
       "      <td>2000</td>\n",
       "      <td>1</td>\n",
       "      <td>SBGR</td>\n",
       "      <td>SÃO PAULO - GUARULHOS</td>\n",
       "      <td>SP</td>\n",
       "      <td>SUDESTE</td>\n",
       "      <td>BRASIL</td>\n",
       "      <td>...</td>\n",
       "      <td>NaN</td>\n",
       "      <td>419392,00</td>\n",
       "      <td>64,00</td>\n",
       "      <td>5257408943,00</td>\n",
       "      <td>0,00</td>\n",
       "      <td>39593361,00</td>\n",
       "      <td>13504,00</td>\n",
       "      <td>2240000,00</td>\n",
       "      <td>NaN</td>\n",
       "      <td>NaN</td>\n",
       "    </tr>\n",
       "    <tr>\n",
       "      <th>3</th>\n",
       "      <td>AAL</td>\n",
       "      <td>AMERICAN AIRLINES</td>\n",
       "      <td>ESTRANGEIRA</td>\n",
       "      <td>2000</td>\n",
       "      <td>1</td>\n",
       "      <td>SBGR</td>\n",
       "      <td>SÃO PAULO - GUARULHOS</td>\n",
       "      <td>SP</td>\n",
       "      <td>SUDESTE</td>\n",
       "      <td>BRASIL</td>\n",
       "      <td>...</td>\n",
       "      <td>NaN</td>\n",
       "      <td>35247,00</td>\n",
       "      <td>31,00</td>\n",
       "      <td>54662412,00</td>\n",
       "      <td>0,00</td>\n",
       "      <td>758379,00</td>\n",
       "      <td>6541,00</td>\n",
       "      <td>837000,00</td>\n",
       "      <td>NaN</td>\n",
       "      <td>NaN</td>\n",
       "    </tr>\n",
       "    <tr>\n",
       "      <th>4</th>\n",
       "      <td>AAL</td>\n",
       "      <td>AMERICAN AIRLINES</td>\n",
       "      <td>ESTRANGEIRA</td>\n",
       "      <td>2000</td>\n",
       "      <td>1</td>\n",
       "      <td>SBGR</td>\n",
       "      <td>SÃO PAULO - GUARULHOS</td>\n",
       "      <td>SP</td>\n",
       "      <td>SUDESTE</td>\n",
       "      <td>BRASIL</td>\n",
       "      <td>...</td>\n",
       "      <td>NaN</td>\n",
       "      <td>47010,00</td>\n",
       "      <td>30,00</td>\n",
       "      <td>100151671,00</td>\n",
       "      <td>0,00</td>\n",
       "      <td>3301669,00</td>\n",
       "      <td>6330,00</td>\n",
       "      <td>1053001,00</td>\n",
       "      <td>NaN</td>\n",
       "      <td>NaN</td>\n",
       "    </tr>\n",
       "  </tbody>\n",
       "</table>\n",
       "<p>5 rows × 38 columns</p>\n",
       "</div>"
      ],
      "text/plain": [
       "  EMPRESA (SIGLA)     EMPRESA (NOME) EMPRESA (NACIONALIDADE)   ANO  MÊS  \\\n",
       "0             AAL  AMERICAN AIRLINES             ESTRANGEIRA  2000    1   \n",
       "1             AAL  AMERICAN AIRLINES             ESTRANGEIRA  2000    1   \n",
       "2             AAL  AMERICAN AIRLINES             ESTRANGEIRA  2000    1   \n",
       "3             AAL  AMERICAN AIRLINES             ESTRANGEIRA  2000    1   \n",
       "4             AAL  AMERICAN AIRLINES             ESTRANGEIRA  2000    1   \n",
       "\n",
       "  AEROPORTO DE ORIGEM (SIGLA) AEROPORTO DE ORIGEM (NOME)  \\\n",
       "0                        SBGR      SÃO PAULO - GUARULHOS   \n",
       "1                        SBGR      SÃO PAULO - GUARULHOS   \n",
       "2                        SBGR      SÃO PAULO - GUARULHOS   \n",
       "3                        SBGR      SÃO PAULO - GUARULHOS   \n",
       "4                        SBGR      SÃO PAULO - GUARULHOS   \n",
       "\n",
       "  AEROPORTO DE ORIGEM (UF) AEROPORTO DE ORIGEM (REGIÃO)  \\\n",
       "0                       SP                      SUDESTE   \n",
       "1                       SP                      SUDESTE   \n",
       "2                       SP                      SUDESTE   \n",
       "3                       SP                      SUDESTE   \n",
       "4                       SP                      SUDESTE   \n",
       "\n",
       "  AEROPORTO DE ORIGEM (PAÍS)  ...  \\\n",
       "0                     BRASIL  ...   \n",
       "1                     BRASIL  ...   \n",
       "2                     BRASIL  ...   \n",
       "3                     BRASIL  ...   \n",
       "4                     BRASIL  ...   \n",
       "\n",
       "  COMBUSTÍVEL (LITROS) - APENAS EMPRESAS BRASILEIRAS DISTÂNCIA VOADA (KM)  \\\n",
       "0                                                NaN            254975,00   \n",
       "1                                                NaN            221444,00   \n",
       "2                                                NaN            419392,00   \n",
       "3                                                NaN             35247,00   \n",
       "4                                                NaN             47010,00   \n",
       "\n",
       "  DECOLAGENS  CARGA PAGA KM CARGA GRATIS KM   CORREIO KM  ASSENTOS  \\\n",
       "0      31,00  1407387975,00            0,00    148050,00   6541,00   \n",
       "1      29,00  2327521524,00            0,00  84385436,00   6119,00   \n",
       "2      64,00  5257408943,00            0,00  39593361,00  13504,00   \n",
       "3      31,00    54662412,00            0,00    758379,00   6541,00   \n",
       "4      30,00   100151671,00            0,00   3301669,00   6330,00   \n",
       "\n",
       "      PAYLOAD HORAS VOADAS BAGAGEM (KG)  \n",
       "0  1085000,00          NaN          NaN  \n",
       "1  1015000,00          NaN          NaN  \n",
       "2  2240000,00          NaN          NaN  \n",
       "3   837000,00          NaN          NaN  \n",
       "4  1053001,00          NaN          NaN  \n",
       "\n",
       "[5 rows x 38 columns]"
      ]
     },
     "execution_count": 8,
     "metadata": {},
     "output_type": "execute_result"
    }
   ],
   "source": [
    "flights2.head()"
   ]
  },
  {
   "cell_type": "code",
   "execution_count": 9,
   "metadata": {},
   "outputs": [
    {
     "data": {
      "text/html": [
       "<div>\n",
       "<style scoped>\n",
       "    .dataframe tbody tr th:only-of-type {\n",
       "        vertical-align: middle;\n",
       "    }\n",
       "\n",
       "    .dataframe tbody tr th {\n",
       "        vertical-align: top;\n",
       "    }\n",
       "\n",
       "    .dataframe thead th {\n",
       "        text-align: right;\n",
       "    }\n",
       "</style>\n",
       "<table border=\"1\" class=\"dataframe\">\n",
       "  <thead>\n",
       "    <tr style=\"text-align: right;\">\n",
       "      <th></th>\n",
       "      <th>EMPRESA (SIGLA)</th>\n",
       "      <th>EMPRESA (NOME)</th>\n",
       "      <th>EMPRESA (NACIONALIDADE)</th>\n",
       "      <th>ANO</th>\n",
       "      <th>MÊS</th>\n",
       "      <th>AEROPORTO DE ORIGEM (SIGLA)</th>\n",
       "      <th>AEROPORTO DE ORIGEM (NOME)</th>\n",
       "      <th>AEROPORTO DE ORIGEM (UF)</th>\n",
       "      <th>AEROPORTO DE ORIGEM (REGIÃO)</th>\n",
       "      <th>AEROPORTO DE ORIGEM (PAÍS)</th>\n",
       "      <th>...</th>\n",
       "      <th>COMBUSTÍVEL (LITROS) - APENAS EMPRESAS BRASILEIRAS</th>\n",
       "      <th>DISTÂNCIA VOADA (KM)</th>\n",
       "      <th>DECOLAGENS</th>\n",
       "      <th>CARGA PAGA KM</th>\n",
       "      <th>CARGA GRATIS KM</th>\n",
       "      <th>CORREIO KM</th>\n",
       "      <th>ASSENTOS</th>\n",
       "      <th>PAYLOAD</th>\n",
       "      <th>HORAS VOADAS</th>\n",
       "      <th>BAGAGEM (KG)</th>\n",
       "    </tr>\n",
       "  </thead>\n",
       "  <tbody>\n",
       "    <tr>\n",
       "      <th>887379</th>\n",
       "      <td>VDA</td>\n",
       "      <td>VOLGA DNEPR</td>\n",
       "      <td>ESTRANGEIRA</td>\n",
       "      <td>2019</td>\n",
       "      <td>7</td>\n",
       "      <td>SBKP</td>\n",
       "      <td>CAMPINAS</td>\n",
       "      <td>SP</td>\n",
       "      <td>SUDESTE</td>\n",
       "      <td>BRASIL</td>\n",
       "      <td>...</td>\n",
       "      <td>NaN</td>\n",
       "      <td>0,00</td>\n",
       "      <td>0,00</td>\n",
       "      <td>683648000,00</td>\n",
       "      <td>0,00</td>\n",
       "      <td>0,00</td>\n",
       "      <td>0,00</td>\n",
       "      <td>0,00</td>\n",
       "      <td>NaN</td>\n",
       "      <td>NaN</td>\n",
       "    </tr>\n",
       "    <tr>\n",
       "      <th>887380</th>\n",
       "      <td>VDA</td>\n",
       "      <td>VOLGA DNEPR</td>\n",
       "      <td>ESTRANGEIRA</td>\n",
       "      <td>2019</td>\n",
       "      <td>8</td>\n",
       "      <td>GVAC</td>\n",
       "      <td>ILHA DO SAL</td>\n",
       "      <td>NaN</td>\n",
       "      <td>NaN</td>\n",
       "      <td>CABO VERDE</td>\n",
       "      <td>...</td>\n",
       "      <td>NaN</td>\n",
       "      <td>4577,00</td>\n",
       "      <td>1,00</td>\n",
       "      <td>0,00</td>\n",
       "      <td>0,00</td>\n",
       "      <td>0,00</td>\n",
       "      <td>0,00</td>\n",
       "      <td>120000,00</td>\n",
       "      <td>NaN</td>\n",
       "      <td>NaN</td>\n",
       "    </tr>\n",
       "    <tr>\n",
       "      <th>887381</th>\n",
       "      <td>VDA</td>\n",
       "      <td>VOLGA DNEPR</td>\n",
       "      <td>ESTRANGEIRA</td>\n",
       "      <td>2019</td>\n",
       "      <td>8</td>\n",
       "      <td>MMGL</td>\n",
       "      <td>GUADALAJARA/INTL</td>\n",
       "      <td>NaN</td>\n",
       "      <td>NaN</td>\n",
       "      <td>MÉXICO</td>\n",
       "      <td>...</td>\n",
       "      <td>NaN</td>\n",
       "      <td>8182,00</td>\n",
       "      <td>1,00</td>\n",
       "      <td>0,00</td>\n",
       "      <td>0,00</td>\n",
       "      <td>0,00</td>\n",
       "      <td>0,00</td>\n",
       "      <td>120000,00</td>\n",
       "      <td>NaN</td>\n",
       "      <td>NaN</td>\n",
       "    </tr>\n",
       "    <tr>\n",
       "      <th>887382</th>\n",
       "      <td>VDA</td>\n",
       "      <td>VOLGA DNEPR</td>\n",
       "      <td>ESTRANGEIRA</td>\n",
       "      <td>2019</td>\n",
       "      <td>8</td>\n",
       "      <td>SBKP</td>\n",
       "      <td>CAMPINAS</td>\n",
       "      <td>SP</td>\n",
       "      <td>SUDESTE</td>\n",
       "      <td>BRASIL</td>\n",
       "      <td>...</td>\n",
       "      <td>NaN</td>\n",
       "      <td>0,00</td>\n",
       "      <td>0,00</td>\n",
       "      <td>541200000,00</td>\n",
       "      <td>0,00</td>\n",
       "      <td>0,00</td>\n",
       "      <td>0,00</td>\n",
       "      <td>0,00</td>\n",
       "      <td>NaN</td>\n",
       "      <td>NaN</td>\n",
       "    </tr>\n",
       "    <tr>\n",
       "      <th>887383</th>\n",
       "      <td>VDA</td>\n",
       "      <td>VOLGA DNEPR</td>\n",
       "      <td>ESTRANGEIRA</td>\n",
       "      <td>2019</td>\n",
       "      <td>8</td>\n",
       "      <td>SBKP</td>\n",
       "      <td>CAMPINAS</td>\n",
       "      <td>SP</td>\n",
       "      <td>SUDESTE</td>\n",
       "      <td>BRASIL</td>\n",
       "      <td>...</td>\n",
       "      <td>NaN</td>\n",
       "      <td>5263,00</td>\n",
       "      <td>1,00</td>\n",
       "      <td>0,00</td>\n",
       "      <td>0,00</td>\n",
       "      <td>0,00</td>\n",
       "      <td>0,00</td>\n",
       "      <td>120000,00</td>\n",
       "      <td>NaN</td>\n",
       "      <td>NaN</td>\n",
       "    </tr>\n",
       "  </tbody>\n",
       "</table>\n",
       "<p>5 rows × 38 columns</p>\n",
       "</div>"
      ],
      "text/plain": [
       "       EMPRESA (SIGLA) EMPRESA (NOME) EMPRESA (NACIONALIDADE)   ANO  MÊS  \\\n",
       "887379             VDA    VOLGA DNEPR             ESTRANGEIRA  2019    7   \n",
       "887380             VDA    VOLGA DNEPR             ESTRANGEIRA  2019    8   \n",
       "887381             VDA    VOLGA DNEPR             ESTRANGEIRA  2019    8   \n",
       "887382             VDA    VOLGA DNEPR             ESTRANGEIRA  2019    8   \n",
       "887383             VDA    VOLGA DNEPR             ESTRANGEIRA  2019    8   \n",
       "\n",
       "       AEROPORTO DE ORIGEM (SIGLA) AEROPORTO DE ORIGEM (NOME)  \\\n",
       "887379                        SBKP                   CAMPINAS   \n",
       "887380                        GVAC                ILHA DO SAL   \n",
       "887381                        MMGL           GUADALAJARA/INTL   \n",
       "887382                        SBKP                   CAMPINAS   \n",
       "887383                        SBKP                   CAMPINAS   \n",
       "\n",
       "       AEROPORTO DE ORIGEM (UF) AEROPORTO DE ORIGEM (REGIÃO)  \\\n",
       "887379                       SP                      SUDESTE   \n",
       "887380                      NaN                          NaN   \n",
       "887381                      NaN                          NaN   \n",
       "887382                       SP                      SUDESTE   \n",
       "887383                       SP                      SUDESTE   \n",
       "\n",
       "       AEROPORTO DE ORIGEM (PAÍS)  ...  \\\n",
       "887379                     BRASIL  ...   \n",
       "887380                 CABO VERDE  ...   \n",
       "887381                     MÉXICO  ...   \n",
       "887382                     BRASIL  ...   \n",
       "887383                     BRASIL  ...   \n",
       "\n",
       "       COMBUSTÍVEL (LITROS) - APENAS EMPRESAS BRASILEIRAS  \\\n",
       "887379                                                NaN   \n",
       "887380                                                NaN   \n",
       "887381                                                NaN   \n",
       "887382                                                NaN   \n",
       "887383                                                NaN   \n",
       "\n",
       "       DISTÂNCIA VOADA (KM) DECOLAGENS CARGA PAGA KM CARGA GRATIS KM  \\\n",
       "887379                 0,00       0,00  683648000,00            0,00   \n",
       "887380              4577,00       1,00          0,00            0,00   \n",
       "887381              8182,00       1,00          0,00            0,00   \n",
       "887382                 0,00       0,00  541200000,00            0,00   \n",
       "887383              5263,00       1,00          0,00            0,00   \n",
       "\n",
       "       CORREIO KM ASSENTOS    PAYLOAD HORAS VOADAS BAGAGEM (KG)  \n",
       "887379       0,00     0,00       0,00          NaN          NaN  \n",
       "887380       0,00     0,00  120000,00          NaN          NaN  \n",
       "887381       0,00     0,00  120000,00          NaN          NaN  \n",
       "887382       0,00     0,00       0,00          NaN          NaN  \n",
       "887383       0,00     0,00  120000,00          NaN          NaN  \n",
       "\n",
       "[5 rows x 38 columns]"
      ]
     },
     "execution_count": 9,
     "metadata": {},
     "output_type": "execute_result"
    }
   ],
   "source": [
    "flights2.tail()"
   ]
  },
  {
   "cell_type": "markdown",
   "metadata": {},
   "source": [
    "#### 1. **Qual o ano com maior quantidade de voos?**"
   ]
  },
  {
   "cell_type": "code",
   "execution_count": 36,
   "metadata": {},
   "outputs": [
    {
     "data": {
      "text/plain": [
       "58228"
      ]
     },
     "execution_count": 36,
     "metadata": {},
     "output_type": "execute_result"
    }
   ],
   "source": [
    "max_flights_by_year =  flights2['ANO'].value_counts().max()\n",
    "max_flights_by_year"
   ]
  },
  {
   "cell_type": "code",
   "execution_count": 21,
   "metadata": {},
   "outputs": [
    {
     "data": {
      "text/plain": [
       "2000    48334\n",
       "2001    48437\n",
       "2002    47098\n",
       "2003    39520\n",
       "2004    39955\n",
       "2005    40786\n",
       "2006    53207\n",
       "2007    58228\n",
       "2008    45877\n",
       "2009    37685\n",
       "2010    45065\n",
       "2011    48112\n",
       "2012    50337\n",
       "2013    49792\n",
       "2014    46420\n",
       "2015    44233\n",
       "2016    39569\n",
       "2017    39501\n",
       "2018    39802\n",
       "2019    25426\n",
       "Name: ANO, dtype: int64"
      ]
     },
     "execution_count": 21,
     "metadata": {},
     "output_type": "execute_result"
    }
   ],
   "source": [
    "flights_per_year =  flights2['ANO'].value_counts().sort_index()\n",
    "flights_per_year"
   ]
  },
  {
   "cell_type": "code",
   "execution_count": 25,
   "metadata": {},
   "outputs": [
    {
     "data": {
      "text/plain": [
       "2000    31871\n",
       "2001    30997\n",
       "2002    30279\n",
       "2003    25746\n",
       "2004    26477\n",
       "2005    28076\n",
       "2006    33967\n",
       "2007    37124\n",
       "2008    33496\n",
       "2009    27127\n",
       "2010    30625\n",
       "2011    35965\n",
       "2012    35214\n",
       "2013    34042\n",
       "2014    30076\n",
       "2015    30785\n",
       "2016    26473\n",
       "2017    25439\n",
       "2018    27446\n",
       "2019    17304\n",
       "Name: ANO, dtype: int64"
      ]
     },
     "execution_count": 25,
     "metadata": {},
     "output_type": "execute_result"
    }
   ],
   "source": [
    "regular_flights_per_year =  flights2[flights2['GRUPO DE VOO'] == 'Regular']['ANO'].value_counts().sort_index()\n",
    "regular_flights_per_year"
   ]
  },
  {
   "cell_type": "code",
   "execution_count": 31,
   "metadata": {},
   "outputs": [
    {
     "data": {
      "text/plain": [
       "2000    12949\n",
       "2001    13987\n",
       "2002    13691\n",
       "2003    11100\n",
       "2004    10622\n",
       "2005    10195\n",
       "2006    16239\n",
       "2007    17027\n",
       "2008     9365\n",
       "2009     7802\n",
       "2010    10661\n",
       "2011     8179\n",
       "2012    10463\n",
       "2013    10710\n",
       "2014    11774\n",
       "2015     9312\n",
       "2016     9458\n",
       "2017    10505\n",
       "2018     8537\n",
       "2019     5517\n",
       "Name: ANO, dtype: int64"
      ]
     },
     "execution_count": 31,
     "metadata": {},
     "output_type": "execute_result"
    }
   ],
   "source": [
    "non_regular_flights_per_year =  flights2[flights2['GRUPO DE VOO'] == 'Não-regular']['ANO'].value_counts().sort_index()\n",
    "non_regular_flights_per_year"
   ]
  },
  {
   "cell_type": "code",
   "execution_count": 32,
   "metadata": {},
   "outputs": [
    {
     "data": {
      "text/plain": [
       "2000    3514\n",
       "2001    3453\n",
       "2002    3128\n",
       "2003    2674\n",
       "2004    2848\n",
       "2005    2515\n",
       "2006    3000\n",
       "2007    4073\n",
       "2008    3016\n",
       "2009    2756\n",
       "2010    3779\n",
       "2011    3968\n",
       "2012    4660\n",
       "2013    5040\n",
       "2014    4570\n",
       "2015    4136\n",
       "2016    3638\n",
       "2017    3557\n",
       "2018    3819\n",
       "2019    2605\n",
       "Name: ANO, dtype: int64"
      ]
     },
     "execution_count": 32,
     "metadata": {},
     "output_type": "execute_result"
    }
   ],
   "source": [
    "improductive_flights_per_year =  flights2[flights2['GRUPO DE VOO'] == 'Improdutivo']['ANO'].value_counts().sort_index()\n",
    "improductive_flights_per_year"
   ]
  },
  {
   "cell_type": "code",
   "execution_count": 34,
   "metadata": {},
   "outputs": [
    {
     "data": {
      "text/plain": [
       "2000    40903\n",
       "2001    41156\n",
       "2002    39643\n",
       "2003    31351\n",
       "2004    30870\n",
       "2005    31983\n",
       "2006    42509\n",
       "2007    47030\n",
       "2008    36650\n",
       "2009    30400\n",
       "2010    34917\n",
       "2011    37073\n",
       "2012    37182\n",
       "2013    36812\n",
       "2014    32751\n",
       "2015    31640\n",
       "2016    27343\n",
       "2017    27629\n",
       "2018    27239\n",
       "2019    17511\n",
       "Name: ANO, dtype: int64"
      ]
     },
     "execution_count": 34,
     "metadata": {},
     "output_type": "execute_result"
    }
   ],
   "source": [
    "domestic_flights_per_year =  flights2[flights2['NATUREZA'] == 'Doméstica']['ANO'].value_counts().sort_index()\n",
    "domestic_flights_per_year"
   ]
  },
  {
   "cell_type": "code",
   "execution_count": 35,
   "metadata": {},
   "outputs": [
    {
     "data": {
      "text/plain": [
       "2000     7431\n",
       "2001     7281\n",
       "2002     7455\n",
       "2003     8169\n",
       "2004     9085\n",
       "2005     8803\n",
       "2006    10698\n",
       "2007    11198\n",
       "2008     9227\n",
       "2009     7285\n",
       "2010    10148\n",
       "2011    11039\n",
       "2012    13155\n",
       "2013    12980\n",
       "2014    13669\n",
       "2015    12593\n",
       "2016    12226\n",
       "2017    11872\n",
       "2018    12563\n",
       "2019     7915\n",
       "Name: ANO, dtype: int64"
      ]
     },
     "execution_count": 35,
     "metadata": {},
     "output_type": "execute_result"
    }
   ],
   "source": [
    "international_flights_per_year =  flights2[flights2['NATUREZA'] == 'Internacional']['ANO'].value_counts().sort_index()\n",
    "international_flights_per_year"
   ]
  },
  {
   "cell_type": "code",
   "execution_count": 22,
   "metadata": {},
   "outputs": [
    {
     "data": {
      "text/plain": [
       "<matplotlib.axes._subplots.AxesSubplot at 0x7fd6ab40aac8>"
      ]
     },
     "execution_count": 22,
     "metadata": {},
     "output_type": "execute_result"
    },
    {
     "data": {
      "image/png": "[encoded data removed]",
      "text/plain": [
       "<Figure size 720x720 with 1 Axes>"
      ]
     },
     "metadata": {
      "needs_background": "light"
     },
     "output_type": "display_data"
    }
   ],
   "source": [
    "flights_per_year.plot.bar(figsize=(10,10))"
   ]
  },
  {
   "cell_type": "code",
   "execution_count": 42,
   "metadata": {},
   "outputs": [
    {
     "data": {
      "text/plain": [
       "<matplotlib.axes._subplots.AxesSubplot at 0x7fd6aaa7d4e0>"
      ]
     },
     "execution_count": 42,
     "metadata": {},
     "output_type": "execute_result"
    },
    {
     "data": {
      "image/png": "[encoded data removed]",
      "text/plain": [
       "<Figure size 1080x720 with 1 Axes>"
      ]
     },
     "metadata": {
      "needs_background": "light"
     },
     "output_type": "display_data"
    }
   ],
   "source": [
    "flights_by_group = pd.DataFrame({'REGULAR': regular_flights_per_year,\n",
    "                                 'NON-REGULAR': non_regular_flights_per_year,\n",
    "                                 'IMPRODUCTIVE': improductive_flights_per_year\n",
    "                                }, index=[i for i in range(2000, 2020)])\n",
    "flights_by_group.plot.bar(figsize=(15,10))"
   ]
  },
  {
   "cell_type": "code",
   "execution_count": 43,
   "metadata": {},
   "outputs": [
    {
     "data": {
      "text/plain": [
       "<matplotlib.axes._subplots.AxesSubplot at 0x7fd6aac47240>"
      ]
     },
     "execution_count": 43,
     "metadata": {},
     "output_type": "execute_result"
    },
    {
     "data": {
      "image/png": "[encoded data removed]",
      "text/plain": [
       "<Figure size 1080x720 with 1 Axes>"
      ]
     },
     "metadata": {
      "needs_background": "light"
     },
     "output_type": "display_data"
    }
   ],
   "source": [
    "flights_by_nature = pd.DataFrame({'DOMESTIC': domestic_flights_per_year,\n",
    "                                 'INTERNATIONAL': international_flights_per_year,\n",
    "                                }, index=[i for i in range(2000, 2020)])\n",
    "flights_by_nature.plot.bar(figsize=(15,10))"
   ]
  },
  {
   "cell_type": "markdown",
   "metadata": {},
   "source": [
    "#### 2. Qual o mês do ano com maior quantidade de voos?"
   ]
  },
  {
   "cell_type": "code",
   "execution_count": 44,
   "metadata": {},
   "outputs": [
    {
     "data": {
      "text/plain": [
       "81632"
      ]
     },
     "execution_count": 44,
     "metadata": {},
     "output_type": "execute_result"
    }
   ],
   "source": [
    "max_flights_by_month =  flights2['MÊS'].value_counts().max()\n",
    "max_flights_by_month"
   ]
  },
  {
   "cell_type": "code",
   "execution_count": 45,
   "metadata": {},
   "outputs": [
    {
     "data": {
      "text/plain": [
       "1     81632\n",
       "2     78402\n",
       "3     72946\n",
       "4     73858\n",
       "5     69708\n",
       "6     72494\n",
       "7     79137\n",
       "8     72897\n",
       "9     67886\n",
       "10    70418\n",
       "11    68749\n",
       "12    79257\n",
       "Name: MÊS, dtype: int64"
      ]
     },
     "execution_count": 45,
     "metadata": {},
     "output_type": "execute_result"
    }
   ],
   "source": [
    "flights_per_month =  flights2['MÊS'].value_counts().sort_index()\n",
    "flights_per_month"
   ]
  },
  {
   "cell_type": "code",
   "execution_count": 46,
   "metadata": {},
   "outputs": [
    {
     "data": {
      "text/plain": [
       "1     53710\n",
       "2     53062\n",
       "3     49799\n",
       "4     51586\n",
       "5     48638\n",
       "6     48841\n",
       "7     52928\n",
       "8     51016\n",
       "9     46374\n",
       "10    46183\n",
       "11    45969\n",
       "12    50423\n",
       "Name: MÊS, dtype: int64"
      ]
     },
     "execution_count": 46,
     "metadata": {},
     "output_type": "execute_result"
    }
   ],
   "source": [
    "regular_flights_per_month =  flights2[flights2['GRUPO DE VOO'] == 'Regular']['MÊS'].value_counts().sort_index()\n",
    "regular_flights_per_month"
   ]
  },
  {
   "cell_type": "markdown",
   "metadata": {},
   "source": [
    "#### 3. Qual a relação entre a distância e os outros campos do dataset?"
   ]
  },
  {
   "cell_type": "code",
   "execution_count": 61,
   "metadata": {},
   "outputs": [],
   "source": [
    "flights2['PASSAGEIROS PAGOS'] = [str(x).replace(',', '.') for x in flights2['PASSAGEIROS PAGOS']]\n",
    "flights2['PASSAGEIROS GRÁTIS'] = [str(x).replace(',', '.') for x in flights2['PASSAGEIROS GRÁTIS']]\n",
    "flights2['CARGA PAGA (KG)'] = [str(x).replace(',', '.') for x in flights2['CARGA PAGA (KG)']]\n",
    "flights2['CARGA GRÁTIS (KG)'] = [str(x).replace(',', '.') for x in flights2['CARGA GRÁTIS (KG)']]\n",
    "flights2['CORREIO (KG)'] = [str(x).replace(',', '.') for x in flights2['CORREIO (KG)']]\n",
    "flights2['ASK'] = [str(x).replace(',', '.') for x in flights2['ASK']]\n",
    "flights2['RPK'] = [str(x).replace(',', '.') for x in flights2['RPK']]\n",
    "flights2['ATK'] = [str(x).replace(',', '.') for x in flights2['ATK']]\n",
    "flights2['RTK'] = [str(x).replace(',', '.') for x in flights2['RTK']]\n",
    "flights2['COMBUSTÍVEL (LITROS) - APENAS EMPRESAS BRASILEIRAS'] = [str(x).replace(',', '.') for x in flights2['COMBUSTÍVEL (LITROS) - APENAS EMPRESAS BRASILEIRAS']]\n",
    "flights2['DISTÂNCIA VOADA (KM)'] = [str(x).replace(',', '.') for x in flights2['DISTÂNCIA VOADA (KM)']]\n",
    "flights2['DECOLAGENS'] = [str(x).replace(',', '.') for x in flights2['DECOLAGENS']]\n",
    "flights2['CARGA PAGA KM'] = [str(x).replace(',', '.') for x in flights2['CARGA PAGA KM']]\n",
    "flights2['CARGA GRATIS KM'] = [str(x).replace(',', '.') for x in flights2['CARGA GRATIS KM']]\n",
    "flights2['CORREIO KM'] = [str(x).replace(',', '.') for x in flights2['CORREIO KM']]\n",
    "flights2['ASSENTOS'] = [str(x).replace(',', '.') for x in flights2['ASSENTOS']]\n",
    "flights2['PAYLOAD'] = [str(x).replace(',', '.') for x in flights2['PAYLOAD']]\n",
    "flights2['HORAS VOADAS'] = [str(x).replace(',', '.') for x in flights2['HORAS VOADAS']]\n",
    "flights2['BAGAGEM (KG)'] = [str(x).replace(',', '.') for x in flights2['BAGAGEM (KG)']]"
   ]
  },
  {
   "cell_type": "code",
   "execution_count": 59,
   "metadata": {},
   "outputs": [
    {
     "data": {
      "text/html": [
       "<div>\n",
       "<style scoped>\n",
       "    .dataframe tbody tr th:only-of-type {\n",
       "        vertical-align: middle;\n",
       "    }\n",
       "\n",
       "    .dataframe tbody tr th {\n",
       "        vertical-align: top;\n",
       "    }\n",
       "\n",
       "    .dataframe thead th {\n",
       "        text-align: right;\n",
       "    }\n",
       "</style>\n",
       "<table border=\"1\" class=\"dataframe\">\n",
       "  <thead>\n",
       "    <tr style=\"text-align: right;\">\n",
       "      <th></th>\n",
       "      <th>ANO</th>\n",
       "      <th>MÊS</th>\n",
       "      <th>PASSAGEIROS PAGOS</th>\n",
       "    </tr>\n",
       "  </thead>\n",
       "  <tbody>\n",
       "    <tr>\n",
       "      <th>ANO</th>\n",
       "      <td>1.000000</td>\n",
       "      <td>-0.027832</td>\n",
       "      <td>0.178962</td>\n",
       "    </tr>\n",
       "    <tr>\n",
       "      <th>MÊS</th>\n",
       "      <td>-0.027832</td>\n",
       "      <td>1.000000</td>\n",
       "      <td>0.005634</td>\n",
       "    </tr>\n",
       "    <tr>\n",
       "      <th>PASSAGEIROS PAGOS</th>\n",
       "      <td>0.178962</td>\n",
       "      <td>0.005634</td>\n",
       "      <td>1.000000</td>\n",
       "    </tr>\n",
       "  </tbody>\n",
       "</table>\n",
       "</div>"
      ],
      "text/plain": [
       "                        ANO       MÊS  PASSAGEIROS PAGOS\n",
       "ANO                1.000000 -0.027832           0.178962\n",
       "MÊS               -0.027832  1.000000           0.005634\n",
       "PASSAGEIROS PAGOS  0.178962  0.005634           1.000000"
      ]
     },
     "execution_count": 59,
     "metadata": {},
     "output_type": "execute_result"
    }
   ],
   "source": [
    "flights2['PASSAGEIROS PAGOS'] = pd.to_numeric(flights2['PASSAGEIROS PAGOS'], errors=\"coerce\")\n",
    "flights2['PASSAGEIROS GRÁTIS'] = pd.to_numeric(flights2['PASSAGEIROS GRÁTIS'], errors=\"coerce\")\n",
    "flights2['CARGA PAGA (KG)'] = pd.to_numeric(flights2['CARGA PAGA (KG)'], errors=\"coerce\")\n",
    "flights2['CARGA GRÁTIS (KG)'] = pd.to_numeric(flights2['CARGA GRÁTIS (KG)'], errors=\"coerce\")\n",
    "flights2['CORREIO (KG)'] = pd.to_numeric(flights2['CORREIO (KG)'], errors=\"coerce\")\n",
    "flights2['ASK'] = pd.to_numeric(flights2['ASK'], errors=\"coerce\")\n",
    "flights2['RPK'] = pd.to_numeric(flights2['RPK'], errors=\"coerce\")\n",
    "flights2['ATK'] = pd.to_numeric(flights2['ATK'], errors=\"coerce\")\n",
    "flights2['RTK'] = pd.to_numeric(flights2['RTK'], errors=\"coerce\")\n",
    "flights2['COMBUSTÍVEL (LITROS) - APENAS EMPRESAS BRASILEIRAS'] = pd.to_numeric(flights2['COMBUSTÍVEL (LITROS) - APENAS EMPRESAS BRASILEIRAS'], errors=\"coerce\")\n",
    "flights2['DISTÂNCIA VOADA (KM)'] = pd.to_numeric(flights2['DISTÂNCIA VOADA (KM)'], errors=\"coerce\")\n",
    "flights2['DECOLAGENS'] = pd.to_numeric(flights2['DECOLAGENS'], errors=\"coerce\")\n",
    "flights2['CARGA PAGA KM'] = pd.to_numeric(flights2['CARGA PAGA KM'], errors=\"coerce\")\n",
    "flights2['CARGA GRATIS KM'] = pd.to_numeric(flights2['CARGA GRATIS KM'], errors=\"coerce\")\n",
    "flights2['CORREIO KM'] = pd.to_numeric(flights2['CORREIO KM'], errors=\"coerce\")\n",
    "flights2['ASSENTOS'] = pd.to_numeric(flights2['ASSENTOS'], errors=\"coerce\")\n",
    "flights2['PAYLOAD'] = pd.to_numeric(flights2['PAYLOAD'], errors=\"coerce\")\n",
    "flights2['HORAS VOADAS'] = pd.to_numeric(flights2['HORAS VOADAS'], errors=\"coerce\")\n",
    "flights2['BAGAGEM (KG)'] = pd.to_numeric(flights2['BAGAGEM (KG)'], errors=\"coerce\")\n",
    "flights2.corr()"
   ]
  },
  {
   "cell_type": "markdown",
   "metadata": {},
   "source": [
    "### Q2"
   ]
  },
  {
   "cell_type": "markdown",
   "metadata": {},
   "source": [
    "### Q3"
   ]
  },
  {
   "cell_type": "markdown",
   "metadata": {},
   "source": [
    "### Q4"
   ]
  },
  {
   "cell_type": "markdown",
   "metadata": {},
   "source": [
    "### Q5"
   ]
  },
  {
   "cell_type": "markdown",
   "metadata": {},
   "source": [
    "### Q6"
   ]
  },
  {
   "cell_type": "markdown",
   "metadata": {},
   "source": [
    "### Q7"
   ]
  },
  {
   "cell_type": "markdown",
   "metadata": {},
   "source": [
    "### Q10 \n",
    "\n",
    "1. Não, não assisti todas as aulas presenciais. A maioria das faltas ocorreu devido ao meu estágio e outros compromissos. Quando eu tinha algum compromisso pessoal que tomava tempo do estágio - como uma consulta médica, por exemplo - eu precisava compensar esse tempo em outro dia. Por isso, tive que sacrificar a presença em algumas aulas (dessa e de outras disciplinas);\n",
    "2. Sinto que consegui entender a ideia geral e os conceitos básicos passados. No entanto, não consegui me aprofundar muito nos detalhes, muitas vezes por falta de conhecimento;\n",
    "3. Sim, participei da discussão de perguntas dos _datasets_ e apresentação da EDA do meu grupo. Considero que minha participação foi boa - sinto que consegui trazer _insights_ interessantes;\n",
    "4. Procurei por alguns datasets de assuntos que me interessavam - como futebol, por exemplo - para tentar fazer uma EDA sobre um assunto com o qual eu tinha mais intimidade. Não cheguei a me aprofundar nas técnicas de EDA passadas em sala, nem em bibliotecas como o Seaborn, mas foi uma tarefa divertida de se realizar;\n",
    "5. Devido ao estágio (de 30h semanais) eu possuía pouco tempo para estudar durante a semana: aproximadamente 1 hora de estudos por dia, sem contar os fins de semana. Além desta disciplina, eu peguei outras 4 neste semestre, sendo que o tempo que dediquei para cada uma delas foi proporcionalmente igual - aproximadamente 2 horas semanais;\n",
    "6. Acho que o conteúdo da aula em si era interessante, mas havia motivos extra-aula que desmotivam a presença, como: a sala de aula (disposição das cadeiras é ruim, espaço ruim, acústica ruim, sem ar condicionado e com ventiladores muito barulhentos), horário (qualquer aula às 8h da manhã é desmotivadora);\n",
    "7. Sim, acho que satisfez. Eu não tinha nenhuma espectativa específica para esta disciplina e achei interessante tanto os trabalhos, quanto discussões/apresentações e ver sobre bibliotecas como Pandas e até sobre Spark;\n",
    "8. Não há nenhum tópico específico que eu queria ter visto. No entanto, sobre os tópicos apresentados em aula,acho que os tópicos sobre clusterização e tipos de plots foram passados de forma muito rápida. Foi difícil entender tanto o conceito de clusterização quanto vantagens/desvantagens de cada tipo de plot.\n",
    "9. Sim, acho que a quantidade e dificuldade das tarefas foi adequada. Me sinto seguro de continuar estudando sozinho, apesar de que eu teria que revisar/aprofundar alguns conceitos estatísticos/matemáticos. Não tenho nenhuma sugestão para melhorar as tarefas. Fazendo uma análise dos métodos de avaliação passados durante o semestre:\n",
    "    - **Questões em sala**: achei as questões justas. Eram questões simples, sobre o assunto da aula (normalmente) e não havia necessidade de serem muito formais como método de avaliação;\n",
    "    - **Discussão em grupos sobre os datasets**: achei uma tarefa interessante por ser diferente e por ser durante a aula;\n",
    "    - **Apresentação da EDA feita em grupo**: interessante para ver não só as análises dos outros grupos, mas entender um pouco como pessoas que estão mais acostumadas com esses tipos de análise trabalham em contraste a pessoas que nunca mexeram com isso;\n",
    "    - **Trabalhos individuais (EDA, lista de exercícios, prova)**: questões são justas. As avaliações não possuem uma formalidade tanto no formato de respostas quanto no tempo de entrega, o que às vezes pode causar um pouco de confusão, mas entendo que o objetivo primário é o aprendizado e não a avaliação em si.\n",
    "10. Eu não possuía conhecimento anterior sobre a área, o que dificultou o entendimento de alguns dos tópicos trazidos. Não consegui dedicar tanto tempo aos estudos e nem estar presente em todas as aulas devido ao estágio. Apesar disso, acho que consegui entender os conceitos básicos, participar as atividades em grupo, fiz a apresentação da EDA e dediquei um pouco do tempo extraclasse à procurar um pouco mais sobre os assuntos vistos em sala. Sendo assim, atribuo uma **nota 8 nesta auto-avaliação**."
   ]
  }
 ],
 "metadata": {
  "kernelspec": {
   "display_name": "Python 3",
   "language": "python",
   "name": "python3"
  },
  "language_info": {
   "codemirror_mode": {
    "name": "ipython",
    "version": 3
   },
   "file_extension": ".py",
   "mimetype": "text/x-python",
   "name": "python",
   "nbconvert_exporter": "python",
   "pygments_lexer": "ipython3",
   "version": "3.6.9"
  }
 },
 "nbformat": 4,
 "nbformat_minor": 2
}
